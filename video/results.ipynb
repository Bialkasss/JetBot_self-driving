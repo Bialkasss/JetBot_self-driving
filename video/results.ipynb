{
 "cells": [
  {
   "cell_type": "code",
   "execution_count": 1,
   "id": "884d8548",
   "metadata": {},
   "outputs": [],
   "source": [
    "from video import create_prediction_video"
   ]
  },
  {
   "cell_type": "code",
   "execution_count": 2,
   "id": "4117eb0a",
   "metadata": {},
   "outputs": [],
   "source": [
    "import os\n",
    "import pandas as pd\n",
    "import cv2\n",
    "import numpy as np\n",
    "from pathlib import Path\n",
    "from glob import glob\n",
    "import random"
   ]
  },
  {
   "cell_type": "code",
   "execution_count": 3,
   "id": "1d19f3dc",
   "metadata": {},
   "outputs": [],
   "source": [
    "os.makedirs(\"data/eval\", exist_ok=True)"
   ]
  },
  {
   "cell_type": "code",
   "execution_count": null,
   "id": "82ff6199",
   "metadata": {},
   "outputs": [],
   "source": [
    "csv_paths = glob(\"../dataset/*.csv\")\n",
    "random.shuffle(csv_paths)\n",
    "\n",
    "test_paths = csv_paths[:3]\n"
   ]
  },
  {
   "cell_type": "code",
   "execution_count": null,
   "id": "4af21c79",
   "metadata": {},
   "outputs": [],
   "source": [
    "def prepare_eval_data(test_paths):\n",
    "    for i, csv_path in enumerate(test_paths):\n",
    "        session_name = f\"session{i}\"\n",
    "        dest_csv = f\"data/eval/{session_name}.csv\"\n",
    "        dest_dir = f\"data/eval/{session_name}\"\n",
    "        os.makedirs(dest_dir, exist_ok=True)\n",
    "\n",
    "        data = pd.read_csv(csv_path, header=None)\n",
    "        data.columns = [\"filename\", \"forward\", \"left\"]\n",
    "        data = data.rolling(window=5, min_periods=1, center=True).mean()\n",
    "\n",
    "        rows = []\n",
    "        image_paths = glob(f\"{csv_path[:-4]}/*.jpg\")\n",
    "        for image_path in image_paths:\n",
    "            img = cv2.imread(image_path)\n",
    "            if img is None:\n",
    "                continue\n",
    "            idx = int(Path(image_path).stem)\n",
    "            row = data[data[\"filename\"] == idx]\n",
    "            if row.empty:\n",
    "                continue\n",
    "\n",
    "            \n",
    "            img_name = f\"{len(rows):04}.jpg\"\n",
    "            cv2.imwrite(os.path.join(dest_dir, img_name), img)\n",
    "            fwd = row[\"forward\"].values[0]\n",
    "            left = row[\"left\"].values[0]\n",
    "            rows.append((len(rows), fwd, left))\n",
    "\n",
    "        df_out = pd.DataFrame(rows)\n",
    "        df_out.to_csv(dest_csv, index=False, header=False)\n",
    "\n",
    "prepare_eval_data(test_paths)"
   ]
  },
  {
   "cell_type": "code",
   "execution_count": 6,
   "id": "e7a774e8",
   "metadata": {},
   "outputs": [
    {
     "name": "stdout",
     "output_type": "stream",
     "text": [
      "Loading ONNX model from maria64.onnx\n",
      "Loading test data from data\\eval\\session0.csv\n",
      "Loading test data from data\\eval\\session1.csv\n",
      "Loading test data from data\\eval\\session2.csv\n",
      "Model input: input\n",
      "Model outputs: ['output']\n",
      "Processing 1819 frames\n",
      "Generating video frames...\n",
      "Processing frame 1/1819\n",
      "Processing frame 51/1819\n",
      "Processing frame 101/1819\n",
      "Processing frame 151/1819\n",
      "Processing frame 201/1819\n",
      "Processing frame 251/1819\n",
      "Processing frame 301/1819\n",
      "Processing frame 351/1819\n",
      "Processing frame 401/1819\n",
      "Processing frame 451/1819\n",
      "Processing frame 501/1819\n",
      "Processing frame 551/1819\n",
      "Processing frame 601/1819\n",
      "Processing frame 651/1819\n",
      "Processing frame 701/1819\n",
      "Processing frame 751/1819\n",
      "Processing frame 801/1819\n",
      "Processing frame 851/1819\n",
      "Processing frame 901/1819\n",
      "Processing frame 951/1819\n",
      "Processing frame 1001/1819\n",
      "Processing frame 1051/1819\n",
      "Processing frame 1101/1819\n",
      "Processing frame 1151/1819\n",
      "Processing frame 1201/1819\n",
      "Processing frame 1251/1819\n",
      "Processing frame 1301/1819\n",
      "Processing frame 1351/1819\n",
      "Processing frame 1401/1819\n",
      "Processing frame 1451/1819\n",
      "Processing frame 1501/1819\n",
      "Processing frame 1551/1819\n",
      "Processing frame 1601/1819\n",
      "Processing frame 1651/1819\n",
      "Processing frame 1701/1819\n",
      "Processing frame 1751/1819\n",
      "Processing frame 1801/1819\n",
      "Video saved to: robotics_predictions.mp4\n"
     ]
    }
   ],
   "source": [
    "MODEL_PATH = \"maria64.onnx\"\n",
    "OUTPUT_VIDEO = \"robotics_predictions.mp4\"\n",
    "FPS = 10\n",
    "MAX_FRAMES = None  \n",
    "\n",
    "create_prediction_video(\n",
    "    model_path=MODEL_PATH,\n",
    "    output_path=OUTPUT_VIDEO,\n",
    "    fps=FPS,\n",
    "    max_frames=MAX_FRAMES\n",
    ")\n"
   ]
  }
 ],
 "metadata": {
  "kernelspec": {
   "display_name": "dupa",
   "language": "python",
   "name": "python3"
  },
  "language_info": {
   "codemirror_mode": {
    "name": "ipython",
    "version": 3
   },
   "file_extension": ".py",
   "mimetype": "text/x-python",
   "name": "python",
   "nbconvert_exporter": "python",
   "pygments_lexer": "ipython3",
   "version": "3.10.11"
  }
 },
 "nbformat": 4,
 "nbformat_minor": 5
}
