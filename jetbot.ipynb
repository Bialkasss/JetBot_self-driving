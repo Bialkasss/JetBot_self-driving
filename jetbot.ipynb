{
 "cells": [
  {
   "cell_type": "markdown",
   "id": "9381cdbf",
   "metadata": {},
   "source": [
    "# Authors:\n",
    "##### Maria Musiał : 156062\n",
    "##### Joanna Szczublińska : 156xxx\n",
    "##### Wiktoria Szarzyńska : 156xxx"
   ]
  },
  {
   "cell_type": "code",
   "execution_count": 1,
   "id": "0e4f50f4",
   "metadata": {},
   "outputs": [],
   "source": [
    "import pandas as pd\n",
    "import numpy as np\n",
    "import tensorflow as tf\n",
    "import os\n",
    "from torch.utils.data import DataLoader\n",
    "import torchvision.transforms as transforms\n",
    "from torch.utils.data import Dataset \n",
    "import torch\n",
    "import torchvision.models as models\n",
    "import PIL.Image\n",
    "import string\n",
    "import torch.optim as optim\n",
    "import torch.nn.functional as F\n",
    "import torch.nn as nn\n",
    "from tqdm import tqdm"
   ]
  },
  {
   "cell_type": "markdown",
   "id": "ec40d0f0",
   "metadata": {},
   "source": [
    "### Defining dataset class"
   ]
  },
  {
   "cell_type": "code",
   "execution_count": null,
   "id": "d25cd003",
   "metadata": {},
   "outputs": [],
   "source": [
    "# root_dir = \"put_jetbot_dataset/dataset/\"\n",
    "# samples=[]\n",
    "\n",
    "\n",
    "class JetBotDataset(Dataset):\n",
    "    \"\"\"\n",
    "    Dataset that reads images and forward, left values from csv (from root_dir), uses transformations externally defined.\n",
    "    Returns image(rgb), [forward, left] tensor\n",
    "    \"\"\"\n",
    "    def __init__(self, root_dir, transform=None):\n",
    "        self.samples = []\n",
    "        self.transform = transform\n",
    "        \n",
    "        folders = [name for name in os.listdir(root_dir)\n",
    "           if os.path.isdir(os.path.join(root_dir, name))]\n",
    "\n",
    "        for folder_name in folders:\n",
    "            file_name = folder_name + \".csv\"\n",
    "            csv_path = os.path.join(root_dir, file_name)\n",
    "            folder_path = os.path.join(root_dir, folder_name)\n",
    "            # print(folder_name, file_name, csv_path, folder_path)\n",
    "\n",
    "            if not os.path.exists(csv_path):\n",
    "                print(f\"Warning: CSV file {csv_path} not found, skipping folder {folder_name}\")\n",
    "                continue\n",
    "            \n",
    "            try:\n",
    "                df = pd.read_csv(csv_path, header=None, dtype={\"0\":\"int32\", \"1\":\"float64\", \"2\":\"float64\"})\n",
    "                df.columns = [\"filename\", \"forward\", \"left\"]\n",
    "\n",
    "                for _, row in df.iterrows():\n",
    "                    img_path = os.path.join(folder_path, str(row['filename'])[:-2].zfill(4)+\".jpg\")     # row[filename gives number of photo]; zfill gives leading zeros\n",
    "                    if not os.path.exists(img_path):\n",
    "                        print(f\"Warnign: Image file {img_path} not found.\")\n",
    "                        continue\n",
    "                    self.samples.append((img_path, float(row[\"forward\"]), float(row[\"left\"])))\n",
    "            except Exception as e:\n",
    "                print(f\"Error processing {csv_path}: e\")\n",
    "                \n",
    "        print(f\"Loaded {len(self.samples)} samples from {len(folders)} folders\")\n",
    "\n",
    "                \n",
    "    def __len__(self):\n",
    "        return len(self.samples)\n",
    "        \n",
    "    def __getitem__(self, idx):\n",
    "        img_path, forward, left = self.samples[idx]\n",
    "        \n",
    "        try:\n",
    "            image = PIL.Image.open(img_path).convert(\"RGB\")\n",
    "            if self.transform:\n",
    "                image = self.transform(image)\n",
    "            return image, torch.tensor([forward, left], dtype=torch.float32)\n",
    "        except Exception as e:\n",
    "            print(f\"Error loading image {img_path}: {e}\")\n",
    "            placeholder = torch.zeros((3,224,224))\n",
    "            return placeholder, torch.tensor([0.0, 0.0], dtype=torch.float32)\n",
    "    \n",
    "    \n",
    "def get_transforms(augument=True):\n",
    "    \"\"\"Create transformations for training and validation\"\"\"\n",
    "    common_transforms = [\n",
    "        transforms.Resize((224,224)),\n",
    "        transforms.ToTensor(),\n",
    "        transforms.Normalize(mean=[0.485, 0.456, 0.406], std=[0.229, 0.224, 0.225]),\n",
    "    ]\n",
    "    if augument:\n",
    "        # Transformations: resize to 224x224, color jitter, normalize for rgb values predefined using imagenet \n",
    "        train_transforms = [\n",
    "            transforms.ColorJitter(0.3, 0.3, 0.3, 0.3),  #color transofmrations\n",
    "            transforms.RandomRotation(10),\n",
    "            *common_transforms\n",
    "        ]  \n",
    "        return transforms.Compose(train_transforms)\n",
    "    else:\n",
    "        return transforms.Compose(common_transforms)"
   ]
  },
  {
   "cell_type": "code",
   "execution_count": null,
   "id": "3179cd6c",
   "metadata": {},
   "outputs": [],
   "source": [
    "from collections import defaultdict\n",
    "import matplotlib.pyplot as plt\n",
    "\n",
    "def plot_samples_per_folder(dataset):\n",
    "    folder_counts = defaultdict(int)\n",
    "    for img_path, _, _ in dataset.samples:\n",
    "        folder = os.path.basename(os.path.dirname(img_path))\n",
    "        folder_counts[folder] += 1\n",
    "    \n",
    "    folders = list(folder_counts.keys())\n",
    "    counts = [folder_counts[f] for f in folders]\n",
    "    \n",
    "    plt.figure(figsize=(12, 6))\n",
    "    plt.bar(folders, counts)\n",
    "    plt.xticks(rotation=45, ha='right')\n",
    "    plt.title(\"Samples per Folder\")\n",
    "    plt.ylabel(\"Number of Samples\")\n",
    "    plt.tight_layout()\n",
    "    plt.show()\n",
    "\n",
    "\n",
    "def show_sample_images(dataset, num=9):\n",
    "    indices = np.random.choice(len(dataset), num, replace=False)\n",
    "    plt.figure(figsize=(12, 12))\n",
    "    \n",
    "    for i, idx in enumerate(indices):\n",
    "        img, (fwd, left) = dataset[idx]\n",
    "        img = img.permute(1, 2, 0).numpy()\n",
    "        img = img * np.array([0.229, 0.224, 0.225]) + np.array([0.485, 0.456, 0.406])  # Unnormalize\n",
    "        img = np.clip(img, 0, 1)\n",
    "        \n",
    "        plt.subplot(3, 3, i + 1)\n",
    "        plt.imshow(img)\n",
    "        plt.title(f\"Fwd: {fwd:.2f}, Left: {left:.2f}\")\n",
    "        plt.axis(\"off\")\n",
    "    \n",
    "    plt.tight_layout()\n",
    "    plt.show()\n",
    "\n",
    "def plot_target_distributions(dataset):\n",
    "    forward_vals = [s[1] for s in dataset.samples]\n",
    "    left_vals = [s[2] for s in dataset.samples]\n",
    "\n",
    "    plt.figure(figsize=(12, 4))\n",
    "\n",
    "    plt.subplot(1, 3, 1)\n",
    "    plt.hist(forward_vals, bins=50, color='skyblue')\n",
    "    plt.title(\"Forward Distribution\")\n",
    "    plt.xlabel(\"Forward\")\n",
    "    \n",
    "    plt.subplot(1, 3, 2)\n",
    "    plt.hist(left_vals, bins=50, color='salmon')\n",
    "    plt.title(\"Left Distribution\")\n",
    "    plt.xlabel(\"Left\")\n",
    "\n",
    "    plt.subplot(1, 3, 3)\n",
    "    plt.scatter(forward_vals, left_vals, alpha=0.3, s=5)\n",
    "    plt.title(\"Forward vs Left\")\n",
    "    plt.xlabel(\"Forward\")\n",
    "    plt.ylabel(\"Left\")\n",
    "\n",
    "    plt.tight_layout()\n",
    "    plt.show()\n",
    "\n"
   ]
  },
  {
   "cell_type": "code",
   "execution_count": null,
   "id": "ba542d81",
   "metadata": {},
   "outputs": [
    {
     "name": "stderr",
     "output_type": "stream",
     "text": [
      "Clipping input data to the valid range for imshow with RGB data ([0..1] for floats or [0..255] for integers).\n",
      "Clipping input data to the valid range for imshow with RGB data ([0..1] for floats or [0..255] for integers).\n",
      "Clipping input data to the valid range for imshow with RGB data ([0..1] for floats or [0..255] for integers).\n",
      "Clipping input data to the valid range for imshow with RGB data ([0..1] for floats or [0..255] for integers).\n"
     ]
    },
    {
     "name": "stdout",
     "output_type": "stream",
     "text": [
      "Loaded 7584 samples from 13 folders\n"
     ]
    },
    {
     "name": "stderr",
     "output_type": "stream",
     "text": [
      "Clipping input data to the valid range for imshow with RGB data ([0..1] for floats or [0..255] for integers).\n",
      "Clipping input data to the valid range for imshow with RGB data ([0..1] for floats or [0..255] for integers).\n",
      "Clipping input data to the valid range for imshow with RGB data ([0..1] for floats or [0..255] for integers).\n",
      "Clipping input data to the valid range for imshow with RGB data ([0..1] for floats or [0..255] for integers).\n",
      "Clipping input data to the valid range for imshow with RGB data ([0..1] for floats or [0..255] for integers).\n"
     ]
    },
    {
     "data": {
      "image/png": "[encoded data removed]",
      "text/plain": [
       "<Figure size 1200x1200 with 9 Axes>"
      ]
     },
     "metadata": {},
     "output_type": "display_data"
    }
   ],
   "source": [
    "train_dataset = JetBotDataset(root_dir=\"put_jetbot_dataset/dataset/\", transform=None)\n",
    "\n",
    "plot_samples_per_folder(train_dataset)\n",
    "plot_target_distributions(train_dataset)\n",
    "show_sample_images(train_dataset, num=9)\n"
   ]
  },
  {
   "cell_type": "markdown",
   "id": "059ec577",
   "metadata": {},
   "source": [
    "### Dividing dataset to train, test, validation"
   ]
  },
  {
   "cell_type": "code",
   "execution_count": 3,
   "id": "86e0bb10",
   "metadata": {},
   "outputs": [],
   "source": [
    "from torch.utils.data import random_split, DataLoader\n",
    "\n",
    "def create_datasets(root_dir, train_ratio=0.7, val_ratio=0.15, test_ratio=0.15, batch_size=32):\n",
    "    assert abs(train_ratio + val_ratio + test_ratio - 1.0) < 1e-6, \"Ratios must sum to 1\"\n",
    "\n",
    "    # Get transforms\n",
    "    train_transform = get_transforms(augument=True)\n",
    "    val_test_transform = get_transforms(augument=False)\n",
    "\n",
    "    # Load full dataset with dummy transform (we'll override it in subsets)\n",
    "    full_dataset = JetBotDataset(root_dir, transform=None)\n",
    "    total_size = len(full_dataset)\n",
    "\n",
    "    # Compute lengths\n",
    "    train_len = int(total_size * train_ratio)\n",
    "    val_len = int(total_size * val_ratio)\n",
    "    test_len = total_size - train_len - val_len\n",
    "\n",
    "    # Split dataset\n",
    "    train_set, val_set, test_set = random_split(full_dataset, [train_len, val_len, test_len])\n",
    "\n",
    "    # Assign transforms manually (they use the same dataset class)\n",
    "    train_set.dataset.transform = train_transform\n",
    "    val_set.dataset.transform = val_test_transform\n",
    "    test_set.dataset.transform = val_test_transform\n",
    "\n",
    "    # Optionally return DataLoaders\n",
    "    return {\n",
    "        \"train\": DataLoader(train_set, batch_size=batch_size, shuffle=True),\n",
    "        \"val\": DataLoader(val_set, batch_size=batch_size),\n",
    "        \"test\": DataLoader(test_set, batch_size=batch_size)\n",
    "    }\n"
   ]
  },
  {
   "cell_type": "markdown",
   "id": "c4d8af80",
   "metadata": {},
   "source": [
    "### Divide to train and test"
   ]
  },
  {
   "cell_type": "code",
   "execution_count": 4,
   "id": "0f89db58",
   "metadata": {},
   "outputs": [],
   "source": [
    "# from torch.utils.data import random_split\n",
    "\n",
    "# generator = torch.Generator().manual_seed(44)\n",
    "# num_test = int(len(dataset) * 0.2)\n",
    "# train_dataset, test_dataset = random_split(dataset, [len(dataset) - num_test, num_test], generator= generator)\n",
    "\n",
    "# train_loader = DataLoader(train_dataset, batch_size=8, shuffle=False)\n",
    "# test_loader = DataLoader(test_dataset, batch_size=8, shuffle=False)"
   ]
  },
  {
   "cell_type": "code",
   "execution_count": 5,
   "id": "0e1b6a40",
   "metadata": {},
   "outputs": [],
   "source": [
    "# data = create_datasets(root_dir = \"put_jetbot_dataset/dataset/\", batch_size=8)\n",
    "# train_loader = data[\"train\"]\n",
    "# val_loader = data[\"val\"]\n",
    "# test_loader = data[\"test\"]\n"
   ]
  },
  {
   "cell_type": "markdown",
   "id": "79a7576c",
   "metadata": {},
   "source": [
    "## Displaying dataset"
   ]
  },
  {
   "cell_type": "code",
   "execution_count": 6,
   "id": "939a545c",
   "metadata": {},
   "outputs": [],
   "source": [
    "import matplotlib.pyplot as plt\n",
    "import numpy as np\n",
    "import torchvision\n",
    "import torch\n",
    "\n",
    "# Function to unnormalize using ImageNet stats\n",
    "def unnormalize(img):\n",
    "    mean = torch.tensor([0.485, 0.456, 0.406]).view(3, 1, 1)\n",
    "    std = torch.tensor([0.229, 0.224, 0.225]).view(3, 1, 1)\n",
    "    return img * std + mean\n",
    "\n",
    "# Show a batch of images from DataLoader\n",
    "def show_batch(data_loader):\n",
    "    dataiter = iter(data_loader)\n",
    "    images, labels = next(dataiter)\n",
    "\n",
    "    # Unnormalize all images in the batch\n",
    "    unnorm_images = unnormalize(images.clone())\n",
    "\n",
    "    # Create a grid and display\n",
    "    img_grid = torchvision.utils.make_grid(unnorm_images, nrow=5)\n",
    "    npimg = img_grid.permute(1, 2, 0).numpy()\n",
    "    npimg = np.clip(npimg, 0, 1)\n",
    "\n",
    "    plt.figure(figsize=(15, 5))\n",
    "    plt.imshow(npimg)\n",
    "    plt.axis(\"off\")\n",
    "\n",
    "    # Show the [forward, left] labels\n",
    "    print(\"Labels (forward, left):\")\n",
    "    for i in range(min(5, labels.size(0))):  # show up to 5 labels\n",
    "        print(f\"{i+1}. {labels[i].tolist()}\")\n",
    "\n",
    "# dataiter = iter(train_loader)\n",
    "# images, labels = next(dataiter)\n",
    "# print(images[0], labels[0])\n",
    "# # Example usage (assuming train_loader exists)\n",
    "# show_batch(train_loader)\n"
   ]
  },
  {
   "cell_type": "markdown",
   "id": "e48182bb",
   "metadata": {},
   "source": [
    "### Resnet transfer learning"
   ]
  },
  {
   "cell_type": "code",
   "execution_count": 7,
   "id": "2453bc89",
   "metadata": {},
   "outputs": [],
   "source": [
    "# model = models.resnet18(pretrained=True)\n",
    "# model.fc = torch.nn.Linear(512,2)\n",
    "# for param in model.parameters():\n",
    "#     param.requires_grad = False\n",
    "\n",
    "# for param in model.fc.parameters():\n",
    "#     param.requires_grad = True\n",
    "# device = torch.device('cpu')\n",
    "# model = model.to(device)"
   ]
  },
  {
   "cell_type": "markdown",
   "id": "19142b8a",
   "metadata": {},
   "source": [
    "### Train model to 2 output: forward, left\n",
    "> Horrible, training takes too long, we're ditching this approach"
   ]
  },
  {
   "cell_type": "code",
   "execution_count": 8,
   "id": "7c5d0413",
   "metadata": {},
   "outputs": [],
   "source": [
    "# import torch.nn.functional as functional\n",
    "# import torch.optim as optim\n",
    "\n",
    "\n",
    "# epochs = 70\n",
    "# best_model_path = 'best_model_jetbot.pth'\n",
    "# best_loss = 1e9\n",
    "# optimizer = optim.Adam(model.parameters())\n",
    "\n",
    "# for epoch in range(epochs):\n",
    "#     model.train()\n",
    "#     train_loss = 0.0\n",
    "    \n",
    "#     for images, targets in iter(train_loader):\n",
    "#         images = images.to(device)\n",
    "#         targets = targets.to(device)\n",
    "#         optimizer.zero_grad()\n",
    "#         outputs = model(images)\n",
    "#         loss = functional.mse_loss(outputs, targets)\n",
    "#         train_loss += float(loss)\n",
    "#         loss.backward()\n",
    "#         optimizer.step()\n",
    "#     train_loss /= len(train_loader)\n",
    "    \n",
    "#     model.eval()\n",
    "#     test_loss = 0.0\n",
    "#     with torch.no_grad():\n",
    "#         for images, targets in iter(test_loader):\n",
    "#             images = images.to(device)\n",
    "#             targets = targets.to(device)\n",
    "#             outputs = model(images)\n",
    "#             loss = functional.mse_loss(outputs, targets)      \n",
    "#             test_loss += float(loss)\n",
    "#     test_loss /= len(test_loader)\n",
    "        \n",
    "#     print(f\"Train: {train_loss} -- Test: {test_loss}\")\n",
    "#     if test_loss < best_loss:\n",
    "#         torch.save(model.state_dict(), best_model_path)\n",
    "#         best_loss = test_loss\n",
    "        "
   ]
  },
  {
   "cell_type": "markdown",
   "id": "1125e1ae",
   "metadata": {},
   "source": [
    "###  Nvidia paper CNN\n"
   ]
  },
  {
   "cell_type": "code",
   "execution_count": 9,
   "id": "34f12713",
   "metadata": {},
   "outputs": [],
   "source": [
    "class NvidiaPaperNetwork(nn.Module):\n",
    "    \"\"\"implementation of nvidia's end-to-end self driving cars network\"\"\"\n",
    "    def __init__(self):\n",
    "        super(NvidiaPaperNetwork, self).__init__()\n",
    "        \n",
    "        \n",
    "        self.conv1a = nn.Conv2d(3, 12, kernel_size=3, stride=2, padding=1)\n",
    "        self.conv1b = nn.Conv2d(12, 12, kernel_size=3, stride=1, padding=1)\n",
    "        \n",
    "        self.conv2a = nn.Conv2d(12, 18, kernel_size=3, stride=2, padding=1)\n",
    "        self.conv2b = nn.Conv2d(18, 18, kernel_size=3, stride=1, padding=1)\n",
    "        \n",
    "        self.conv3a = nn.Conv2d(18, 24, kernel_size=3, stride=2, padding=1)\n",
    "        self.conv3b = nn.Conv2d(24, 24, kernel_size=3, stride=1, padding=1)\n",
    "        \n",
    "        self.conv4 = nn.Conv2d(24, 32, kernel_size=3, stride=2, padding=1)\n",
    "        self.conv5 = nn.Conv2d(32, 32, kernel_size=3, stride=1, padding=1)\n",
    "        \n",
    "        # 224 -> 112 -> 56 -> 28 -> 14 -> 14 after all conv layers\n",
    "        feature_size = 32 *14*14  #32 channels of 28x28\n",
    "        self.fc1 = nn.Linear(feature_size, 64)\n",
    "        self.fc2 = nn.Linear(64, 32)\n",
    "        self.fc3 = nn.Linear(32, 10)\n",
    "        \n",
    "        self.output = nn.Linear(10, 2)  # Output of 2 values: forward, left\n",
    "        \n",
    "    def forward(self, x):\n",
    "        \n",
    "        x = F.relu(self.conv1a(x))\n",
    "        x = F.relu(self.conv1b(x))\n",
    "        \n",
    "        x = F.relu(self.conv2a(x))\n",
    "        x = F.relu(self.conv2b(x))\n",
    "        \n",
    "        x = F.relu(self.conv3a(x))\n",
    "        x = F.relu(self.conv3b(x))\n",
    "        \n",
    "        x = F.relu(self.conv4(x))\n",
    "        x = F.relu(self.conv5(x))\n",
    "        \n",
    "        x = x.view(x.size(0), -1)  #Flatten the output \n",
    "    \n",
    "        x = F.relu(self.fc1(x))\n",
    "        x = F.relu(self.fc2(x))\n",
    "        x = F.relu(self.fc3(x))\n",
    "        \n",
    "        x = self.output(x)\n",
    "        \n",
    "        return x\n",
    "    "
   ]
  },
  {
   "cell_type": "code",
   "execution_count": 10,
   "id": "f1d5c595",
   "metadata": {},
   "outputs": [
    {
     "name": "stdout",
     "output_type": "stream",
     "text": [
      "Using device: cpu\n"
     ]
    }
   ],
   "source": [
    "device = torch.device(\"cuda\" if torch.cuda.is_available() else \"cpu\")\n",
    "print(f\"Using device: {device}\")\n",
    "model = NvidiaPaperNetwork().to(device)"
   ]
  },
  {
   "cell_type": "code",
   "execution_count": 11,
   "id": "d5b12da6",
   "metadata": {},
   "outputs": [
    {
     "name": "stdout",
     "output_type": "stream",
     "text": [
      "\n",
      "Model architecture:\n",
      "NvidiaPaperNetwork(\n",
      "  (conv1a): Conv2d(3, 12, kernel_size=(3, 3), stride=(2, 2), padding=(1, 1))\n",
      "  (conv1b): Conv2d(12, 12, kernel_size=(3, 3), stride=(1, 1), padding=(1, 1))\n",
      "  (conv2a): Conv2d(12, 18, kernel_size=(3, 3), stride=(2, 2), padding=(1, 1))\n",
      "  (conv2b): Conv2d(18, 18, kernel_size=(3, 3), stride=(1, 1), padding=(1, 1))\n",
      "  (conv3a): Conv2d(18, 24, kernel_size=(3, 3), stride=(2, 2), padding=(1, 1))\n",
      "  (conv3b): Conv2d(24, 24, kernel_size=(3, 3), stride=(1, 1), padding=(1, 1))\n",
      "  (conv4): Conv2d(24, 32, kernel_size=(3, 3), stride=(2, 2), padding=(1, 1))\n",
      "  (conv5): Conv2d(32, 32, kernel_size=(3, 3), stride=(1, 1), padding=(1, 1))\n",
      "  (fc1): Linear(in_features=6272, out_features=64, bias=True)\n",
      "  (fc2): Linear(in_features=64, out_features=32, bias=True)\n",
      "  (fc3): Linear(in_features=32, out_features=10, bias=True)\n",
      "  (output): Linear(in_features=10, out_features=2, bias=True)\n",
      ")\n",
      "\n",
      "Total parameters: 435,756\n"
     ]
    }
   ],
   "source": [
    "print(\"\\nModel architecture:\")\n",
    "print(model)\n",
    "\n",
    "# Count number of parameters\n",
    "total_params = sum(p.numel() for p in model.parameters())\n",
    "print(f\"\\nTotal parameters: {total_params:,}\")\n"
   ]
  },
  {
   "cell_type": "code",
   "execution_count": null,
   "id": "12b04189",
   "metadata": {},
   "outputs": [],
   "source": [
    "def training(model, train_loader, val_loader, device, epochs=70):\n",
    "    \"\"\"\n",
    "    Training loop with model saving\n",
    "    \"\"\"\n",
    "    best_model_path = 'best_model_jetbot.pth'\n",
    "    best_loss = 1e9\n",
    "    patience = 7\n",
    "    patience_counter = 0    \n",
    "    \n",
    "    optimizer = optim.Adam(model.parameters(), lr =0.0003, weight_decay=1e-5)\n",
    "    scheduler = torch.optim.lr_scheduler.ReduceLROnPlateau(optimizer, 'min', factor=0.5, patience=5, verbose=True)\n",
    "    \n",
    "    train_loss_history = []\n",
    "    val_loss_history = []\n",
    "\n",
    "    for epoch in range(epochs):\n",
    "        if patience_counter >= patience:\n",
    "            print(f\"Early stopping triggered at epoch {epoch+1}.\")\n",
    "            break\n",
    "        \n",
    "        model.train()\n",
    "        train_loss = 0.0\n",
    "        \n",
    "        train_iterator = tqdm(train_loader, desc=f\"Epoch {epoch+1}/{epochs} [Train]\")\n",
    "\n",
    "        for images, targets in train_iterator:\n",
    "            images = images.to(device)\n",
    "            targets = targets.to(device)\n",
    "            \n",
    "            optimizer.zero_grad()\n",
    "            \n",
    "            outputs = model(images)\n",
    "            loss = F.mse_loss(outputs, targets)\n",
    "            \n",
    "            train_loss += float(loss)\n",
    "            loss.backward()\n",
    "            \n",
    "            # Gradient clipping to prevent exploding gradients\n",
    "            torch.nn.utils.clip_grad_norm_(model.parameters(), max_norm=1.0)\n",
    "            optimizer.step()\n",
    "            train_iterator.set_postfix(loss=float(loss))\n",
    "            \n",
    "        train_loss /= len(train_loader)\n",
    "        train_loss_history.append(train_loss)\n",
    "        \n",
    "        model.eval()\n",
    "        val_loss = 0.0\n",
    "        with torch.no_grad():\n",
    "            val_iterator = tqdm(val_loader, desc=f\"Epoch {epoch+1}/{epochs} [Test]\")\n",
    "            for images, targets in val_iterator:\n",
    "                images = images.to(device)\n",
    "                targets = targets.to(device)\n",
    "                outputs = model(images)\n",
    "                loss = F.mse_loss(outputs, targets)      \n",
    "                val_loss += float(loss)\n",
    "                \n",
    "                # Update progress bar\n",
    "                val_iterator.set_postfix(loss=float(loss))\n",
    "                \n",
    "        val_loss /= len(val_loader)\n",
    "        val_loss_history.append(val_loss)\n",
    "        \n",
    "        # Update learning rate based on validation loss\n",
    "        scheduler.step(val_loss)\n",
    "            \n",
    "        print(f\"Epoch {epoch+1}/{epochs} - Train loss: {train_loss:.6f} - Val loss: {val_loss:.6f}\")\n",
    "        \n",
    "        # Save best model\n",
    "        if val_loss < best_loss:\n",
    "            torch.save(model.state_dict(), best_model_path)\n",
    "            best_loss = val_loss\n",
    "            patience_counter = 0\n",
    "            print(f\"New best model saved with val loss: {val_loss:.6f}\")\n",
    "        else:\n",
    "            patience_counter += 1\n",
    "            \n",
    "    print(f\"Training completed. Best val loss: {best_loss:.6f}\")\n",
    "    \n",
    "    # Plot loss curves\n",
    "    plt.figure(figsize=(10, 5))\n",
    "    plt.plot(train_loss_history, label='Train Loss')\n",
    "    plt.plot(val_loss_history, label='Val Loss')\n",
    "    plt.xlabel('Epoch')\n",
    "    plt.ylabel('Loss')\n",
    "    plt.title('Training and Val Loss')\n",
    "    plt.legend()\n",
    "    plt.savefig('loss_curves.png')\n",
    "    plt.show()\n",
    "    \n",
    "    return best_model_path"
   ]
  },
  {
   "cell_type": "code",
   "execution_count": 23,
   "id": "cb3c1b12",
   "metadata": {},
   "outputs": [],
   "source": [
    "def evaluate_model(model, test_loader, device):\n",
    "    \"\"\"\n",
    "    Evaluate the model on the test set and visualise predictions\n",
    "    \"\"\"\n",
    "    \n",
    "    model.eval()\n",
    "    all_targets = []\n",
    "    all_predictions = []\n",
    "    test_loss = 0.0\n",
    "    \n",
    "    with torch.no_grad():\n",
    "        test_iterator = tqdm(test_loader, desc=f\"Evaluating\")\n",
    "\n",
    "        for images, targets in test_iterator:\n",
    "            images = images.to(device)\n",
    "            targets = targets.to(device)\n",
    "            outputs = model(images)\n",
    "            \n",
    "            loss = F.mse_loss(outputs, targets)\n",
    "            test_loss += float(loss)\n",
    "            \n",
    "            all_targets.extend(targets.cpu().numpy())\n",
    "            all_predictions.extend(outputs.cpu().numpy())\n",
    "            \n",
    "            test_iterator.set_postfix(loss=float(loss))\n",
    "            \n",
    "        test_loss /= len(test_loader)\n",
    "        print(f\"Final test loss: {test_loss:.6f}\")  \n",
    "        \n",
    "    all_targets = np.array(all_targets)\n",
    "    all_predictions = np.array(all_predictions)\n",
    "    \n",
    "    # Calculate Mean Absolute Error for each output dimension\n",
    "    mae = np.mean(np.abs(all_predictions - all_targets), axis=0)\n",
    "    print(f\"Mean Absolute Error per output: {mae}\")\n",
    "    \n",
    "    # Visualize predictions vs targets (assuming 2D outputs, e.g., x, y coordinates)\n",
    "    if all_predictions.shape[1] == 2:\n",
    "        plt.figure(figsize=(10, 8))\n",
    "        plt.scatter(all_targets[:, 0], all_targets[:, 1], c='blue', alpha=0.5, label='Ground Truth')\n",
    "        plt.scatter(all_predictions[:, 0], all_predictions[:, 1], c='red', alpha=0.5, label='Predictions')\n",
    "        plt.xlabel('X')\n",
    "        plt.ylabel('Y')\n",
    "        plt.title('Predictions vs Ground Truth')\n",
    "        plt.legend()\n",
    "        plt.grid(True)\n",
    "        plt.savefig('predictions_vs_ground_truth.png')\n",
    "        plt.show()\n",
    "    \n",
    "    return test_loss, mae"
   ]
  },
  {
   "cell_type": "code",
   "execution_count": null,
   "id": "17835765",
   "metadata": {},
   "outputs": [
    {
     "name": "stdout",
     "output_type": "stream",
     "text": [
      "Using device: cpu\n"
     ]
    },
    {
     "name": "stderr",
     "output_type": "stream",
     "text": [
      "c:\\Users\\mary9\\anaconda3\\envs\\cv_lab\\lib\\site-packages\\torch\\optim\\lr_scheduler.py:60: UserWarning: The verbose parameter is deprecated. Please use get_last_lr() to access the learning rate.\n",
      "  warnings.warn(\n"
     ]
    },
    {
     "name": "stdout",
     "output_type": "stream",
     "text": [
      "Loaded 7584 samples from 13 folders\n",
      "NvidiaPaperNetwork(\n",
      "  (conv1a): Conv2d(3, 12, kernel_size=(3, 3), stride=(2, 2), padding=(1, 1))\n",
      "  (conv1b): Conv2d(12, 12, kernel_size=(3, 3), stride=(1, 1), padding=(1, 1))\n",
      "  (conv2a): Conv2d(12, 18, kernel_size=(3, 3), stride=(2, 2), padding=(1, 1))\n",
      "  (conv2b): Conv2d(18, 18, kernel_size=(3, 3), stride=(1, 1), padding=(1, 1))\n",
      "  (conv3a): Conv2d(18, 24, kernel_size=(3, 3), stride=(2, 2), padding=(1, 1))\n",
      "  (conv3b): Conv2d(24, 24, kernel_size=(3, 3), stride=(1, 1), padding=(1, 1))\n",
      "  (conv4): Conv2d(24, 32, kernel_size=(3, 3), stride=(2, 2), padding=(1, 1))\n",
      "  (conv5): Conv2d(32, 32, kernel_size=(3, 3), stride=(1, 1), padding=(1, 1))\n",
      "  (fc1): Linear(in_features=6272, out_features=64, bias=True)\n",
      "  (fc2): Linear(in_features=64, out_features=32, bias=True)\n",
      "  (fc3): Linear(in_features=32, out_features=10, bias=True)\n",
      "  (output): Linear(in_features=10, out_features=2, bias=True)\n",
      ")\n",
      "Total parameters: 435,756\n"
     ]
    },
    {
     "name": "stderr",
     "output_type": "stream",
     "text": [
      "Epoch 1/70 [Train]: 100%|██████████| 664/664 [01:12<00:00,  9.15it/s, loss=0.258] \n",
      "Epoch 1/70 [Test]: 100%|██████████| 143/143 [00:08<00:00, 17.82it/s, loss=0.16]  \n"
     ]
    },
    {
     "name": "stdout",
     "output_type": "stream",
     "text": [
      "Epoch 1/70 - Train loss: 0.244144 - Val loss: 0.234544\n",
      "New best model saved with val loss: 0.234544\n"
     ]
    },
    {
     "name": "stderr",
     "output_type": "stream",
     "text": [
      "Epoch 2/70 [Train]: 100%|██████████| 664/664 [01:07<00:00,  9.84it/s, loss=0.371] \n",
      "Epoch 2/70 [Test]: 100%|██████████| 143/143 [00:07<00:00, 18.39it/s, loss=0.163]  \n"
     ]
    },
    {
     "name": "stdout",
     "output_type": "stream",
     "text": [
      "Epoch 2/70 - Train loss: 0.233863 - Val loss: 0.231625\n",
      "New best model saved with val loss: 0.231625\n"
     ]
    },
    {
     "name": "stderr",
     "output_type": "stream",
     "text": [
      "Epoch 3/70 [Train]: 100%|██████████| 664/664 [01:07<00:00,  9.84it/s, loss=0.0982]\n",
      "Epoch 3/70 [Test]: 100%|██████████| 143/143 [00:07<00:00, 18.63it/s, loss=0.0344]\n"
     ]
    },
    {
     "name": "stdout",
     "output_type": "stream",
     "text": [
      "Epoch 3/70 - Train loss: 0.162381 - Val loss: 0.109872\n",
      "New best model saved with val loss: 0.109872\n"
     ]
    },
    {
     "name": "stderr",
     "output_type": "stream",
     "text": [
      "Epoch 4/70 [Train]: 100%|██████████| 664/664 [01:07<00:00,  9.84it/s, loss=0.0956]\n",
      "Epoch 4/70 [Test]: 100%|██████████| 143/143 [00:07<00:00, 18.76it/s, loss=0.0341]\n"
     ]
    },
    {
     "name": "stdout",
     "output_type": "stream",
     "text": [
      "Epoch 4/70 - Train loss: 0.108603 - Val loss: 0.109642\n",
      "New best model saved with val loss: 0.109642\n"
     ]
    },
    {
     "name": "stderr",
     "output_type": "stream",
     "text": [
      "Epoch 5/70 [Train]: 100%|██████████| 664/664 [01:06<00:00,  9.97it/s, loss=0.0178] \n",
      "Epoch 5/70 [Test]: 100%|██████████| 143/143 [00:07<00:00, 18.25it/s, loss=0.0701]\n"
     ]
    },
    {
     "name": "stdout",
     "output_type": "stream",
     "text": [
      "Epoch 5/70 - Train loss: 0.102253 - Val loss: 0.106854\n",
      "New best model saved with val loss: 0.106854\n"
     ]
    },
    {
     "name": "stderr",
     "output_type": "stream",
     "text": [
      "Epoch 6/70 [Train]: 100%|██████████| 664/664 [01:06<00:00, 10.04it/s, loss=0.12]   \n",
      "Epoch 6/70 [Test]: 100%|██████████| 143/143 [00:07<00:00, 19.02it/s, loss=0.0493]\n"
     ]
    },
    {
     "name": "stdout",
     "output_type": "stream",
     "text": [
      "Epoch 6/70 - Train loss: 0.097510 - Val loss: 0.098351\n",
      "New best model saved with val loss: 0.098351\n"
     ]
    },
    {
     "name": "stderr",
     "output_type": "stream",
     "text": [
      "Epoch 7/70 [Train]: 100%|██████████| 664/664 [01:05<00:00, 10.07it/s, loss=0.0349] \n",
      "Epoch 7/70 [Test]: 100%|██████████| 143/143 [00:07<00:00, 18.54it/s, loss=0.043] \n"
     ]
    },
    {
     "name": "stdout",
     "output_type": "stream",
     "text": [
      "Epoch 7/70 - Train loss: 0.094575 - Val loss: 0.098164\n",
      "New best model saved with val loss: 0.098164\n"
     ]
    },
    {
     "name": "stderr",
     "output_type": "stream",
     "text": [
      "Epoch 8/70 [Train]: 100%|██████████| 664/664 [01:06<00:00, 10.00it/s, loss=0.0187] \n",
      "Epoch 8/70 [Test]: 100%|██████████| 143/143 [00:07<00:00, 18.19it/s, loss=0.0525]\n"
     ]
    },
    {
     "name": "stdout",
     "output_type": "stream",
     "text": [
      "Epoch 8/70 - Train loss: 0.090985 - Val loss: 0.098838\n"
     ]
    },
    {
     "name": "stderr",
     "output_type": "stream",
     "text": [
      "Epoch 9/70 [Train]: 100%|██████████| 664/664 [01:05<00:00, 10.16it/s, loss=0.119]  \n",
      "Epoch 9/70 [Test]: 100%|██████████| 143/143 [00:07<00:00, 19.45it/s, loss=0.0237] \n"
     ]
    },
    {
     "name": "stdout",
     "output_type": "stream",
     "text": [
      "Epoch 9/70 - Train loss: 0.087221 - Val loss: 0.092334\n",
      "New best model saved with val loss: 0.092334\n"
     ]
    },
    {
     "name": "stderr",
     "output_type": "stream",
     "text": [
      "Epoch 10/70 [Train]: 100%|██████████| 664/664 [01:05<00:00, 10.15it/s, loss=0.131]  \n",
      "Epoch 10/70 [Test]: 100%|██████████| 143/143 [00:07<00:00, 18.42it/s, loss=0.0533]\n"
     ]
    },
    {
     "name": "stdout",
     "output_type": "stream",
     "text": [
      "Epoch 10/70 - Train loss: 0.085739 - Val loss: 0.091173\n",
      "New best model saved with val loss: 0.091173\n"
     ]
    },
    {
     "name": "stderr",
     "output_type": "stream",
     "text": [
      "Epoch 11/70 [Train]: 100%|██████████| 664/664 [01:05<00:00, 10.12it/s, loss=0.0257] \n",
      "Epoch 11/70 [Test]: 100%|██████████| 143/143 [00:07<00:00, 18.90it/s, loss=0.0558]\n"
     ]
    },
    {
     "name": "stdout",
     "output_type": "stream",
     "text": [
      "Epoch 11/70 - Train loss: 0.081899 - Val loss: 0.090068\n",
      "New best model saved with val loss: 0.090068\n"
     ]
    },
    {
     "name": "stderr",
     "output_type": "stream",
     "text": [
      "Epoch 12/70 [Train]: 100%|██████████| 664/664 [01:05<00:00, 10.13it/s, loss=0.0378] \n",
      "Epoch 12/70 [Test]: 100%|██████████| 143/143 [00:07<00:00, 19.30it/s, loss=0.0301] \n"
     ]
    },
    {
     "name": "stdout",
     "output_type": "stream",
     "text": [
      "Epoch 12/70 - Train loss: 0.078776 - Val loss: 0.091640\n"
     ]
    },
    {
     "name": "stderr",
     "output_type": "stream",
     "text": [
      "Epoch 13/70 [Train]: 100%|██████████| 664/664 [01:27<00:00,  7.57it/s, loss=0.03]   \n",
      "Epoch 13/70 [Test]: 100%|██████████| 143/143 [00:10<00:00, 13.31it/s, loss=0.0359] \n"
     ]
    },
    {
     "name": "stdout",
     "output_type": "stream",
     "text": [
      "Epoch 13/70 - Train loss: 0.076506 - Val loss: 0.087539\n",
      "New best model saved with val loss: 0.087539\n"
     ]
    },
    {
     "name": "stderr",
     "output_type": "stream",
     "text": [
      "Epoch 14/70 [Train]: 100%|██████████| 664/664 [01:29<00:00,  7.40it/s, loss=0.0935] \n",
      "Epoch 14/70 [Test]: 100%|██████████| 143/143 [00:10<00:00, 13.81it/s, loss=0.048] \n"
     ]
    },
    {
     "name": "stdout",
     "output_type": "stream",
     "text": [
      "Epoch 14/70 - Train loss: 0.074253 - Val loss: 0.091160\n"
     ]
    },
    {
     "name": "stderr",
     "output_type": "stream",
     "text": [
      "Epoch 15/70 [Train]: 100%|██████████| 664/664 [01:40<00:00,  6.61it/s, loss=0.081]  \n",
      "Epoch 15/70 [Test]: 100%|██████████| 143/143 [00:11<00:00, 12.87it/s, loss=0.0227]\n"
     ]
    },
    {
     "name": "stdout",
     "output_type": "stream",
     "text": [
      "Epoch 15/70 - Train loss: 0.071134 - Val loss: 0.088529\n"
     ]
    },
    {
     "name": "stderr",
     "output_type": "stream",
     "text": [
      "Epoch 16/70 [Train]: 100%|██████████| 664/664 [01:16<00:00,  8.67it/s, loss=0.0665] \n",
      "Epoch 16/70 [Test]: 100%|██████████| 143/143 [00:08<00:00, 16.84it/s, loss=0.0598]\n"
     ]
    },
    {
     "name": "stdout",
     "output_type": "stream",
     "text": [
      "Epoch 16/70 - Train loss: 0.068486 - Val loss: 0.091884\n"
     ]
    },
    {
     "name": "stderr",
     "output_type": "stream",
     "text": [
      "Epoch 17/70 [Train]: 100%|██████████| 664/664 [01:15<00:00,  8.79it/s, loss=0.0049] \n",
      "Epoch 17/70 [Test]: 100%|██████████| 143/143 [00:08<00:00, 17.12it/s, loss=0.0274]\n"
     ]
    },
    {
     "name": "stdout",
     "output_type": "stream",
     "text": [
      "Epoch 17/70 - Train loss: 0.066090 - Val loss: 0.090965\n"
     ]
    },
    {
     "name": "stderr",
     "output_type": "stream",
     "text": [
      "Epoch 18/70 [Train]: 100%|██████████| 664/664 [01:14<00:00,  8.97it/s, loss=0.00474]\n",
      "Epoch 18/70 [Test]: 100%|██████████| 143/143 [00:08<00:00, 16.75it/s, loss=0.0163]\n"
     ]
    },
    {
     "name": "stdout",
     "output_type": "stream",
     "text": [
      "Epoch 18/70 - Train loss: 0.062700 - Val loss: 0.084937\n",
      "New best model saved with val loss: 0.084937\n"
     ]
    },
    {
     "name": "stderr",
     "output_type": "stream",
     "text": [
      "Epoch 19/70 [Train]: 100%|██████████| 664/664 [01:13<00:00,  8.98it/s, loss=0.0445] \n",
      "Epoch 19/70 [Test]: 100%|██████████| 143/143 [00:08<00:00, 16.88it/s, loss=0.0458]\n"
     ]
    },
    {
     "name": "stdout",
     "output_type": "stream",
     "text": [
      "Epoch 19/70 - Train loss: 0.061130 - Val loss: 0.094745\n"
     ]
    },
    {
     "name": "stderr",
     "output_type": "stream",
     "text": [
      "Epoch 20/70 [Train]: 100%|██████████| 664/664 [01:13<00:00,  8.98it/s, loss=0.0478] \n",
      "Epoch 20/70 [Test]: 100%|██████████| 143/143 [00:08<00:00, 16.80it/s, loss=0.0327] \n"
     ]
    },
    {
     "name": "stdout",
     "output_type": "stream",
     "text": [
      "Epoch 20/70 - Train loss: 0.058541 - Val loss: 0.086001\n"
     ]
    },
    {
     "name": "stderr",
     "output_type": "stream",
     "text": [
      "Epoch 21/70 [Train]: 100%|██████████| 664/664 [01:15<00:00,  8.75it/s, loss=0.0165] \n",
      "Epoch 21/70 [Test]: 100%|██████████| 143/143 [00:08<00:00, 16.99it/s, loss=0.019]  \n"
     ]
    },
    {
     "name": "stdout",
     "output_type": "stream",
     "text": [
      "Epoch 21/70 - Train loss: 0.055848 - Val loss: 0.086389\n"
     ]
    },
    {
     "name": "stderr",
     "output_type": "stream",
     "text": [
      "Epoch 22/70 [Train]: 100%|██████████| 664/664 [01:14<00:00,  8.89it/s, loss=0.00271]\n",
      "Epoch 22/70 [Test]: 100%|██████████| 143/143 [00:08<00:00, 16.30it/s, loss=0.0146] \n"
     ]
    },
    {
     "name": "stdout",
     "output_type": "stream",
     "text": [
      "Epoch 22/70 - Train loss: 0.052930 - Val loss: 0.090861\n"
     ]
    },
    {
     "name": "stderr",
     "output_type": "stream",
     "text": [
      "Epoch 23/70 [Train]: 100%|██████████| 664/664 [01:14<00:00,  8.87it/s, loss=0.0498] \n",
      "Epoch 23/70 [Test]: 100%|██████████| 143/143 [00:08<00:00, 16.76it/s, loss=0.0149]\n"
     ]
    },
    {
     "name": "stdout",
     "output_type": "stream",
     "text": [
      "Epoch 23/70 - Train loss: 0.050275 - Val loss: 0.091269\n"
     ]
    },
    {
     "name": "stderr",
     "output_type": "stream",
     "text": [
      "Epoch 24/70 [Train]: 100%|██████████| 664/664 [01:15<00:00,  8.84it/s, loss=0.0178] \n",
      "Epoch 24/70 [Test]: 100%|██████████| 143/143 [00:08<00:00, 16.93it/s, loss=0.0111] \n"
     ]
    },
    {
     "name": "stdout",
     "output_type": "stream",
     "text": [
      "Epoch 24/70 - Train loss: 0.046714 - Val loss: 0.094057\n"
     ]
    },
    {
     "name": "stderr",
     "output_type": "stream",
     "text": [
      "Epoch 25/70 [Train]: 100%|██████████| 664/664 [01:11<00:00,  9.24it/s, loss=0.0986] \n",
      "Epoch 25/70 [Test]: 100%|██████████| 143/143 [00:08<00:00, 16.42it/s, loss=0.00637]\n"
     ]
    },
    {
     "name": "stdout",
     "output_type": "stream",
     "text": [
      "Epoch 25/70 - Train loss: 0.039623 - Val loss: 0.089267\n"
     ]
    },
    {
     "name": "stderr",
     "output_type": "stream",
     "text": [
      "Epoch 26/70 [Train]: 100%|██████████| 664/664 [01:13<00:00,  9.09it/s, loss=0.0178] \n",
      "Epoch 26/70 [Test]: 100%|██████████| 143/143 [00:08<00:00, 17.27it/s, loss=0.0126] \n"
     ]
    },
    {
     "name": "stdout",
     "output_type": "stream",
     "text": [
      "Epoch 26/70 - Train loss: 0.036925 - Val loss: 0.091236\n"
     ]
    },
    {
     "name": "stderr",
     "output_type": "stream",
     "text": [
      "Epoch 27/70 [Train]: 100%|██████████| 664/664 [01:18<00:00,  8.48it/s, loss=0.095]  \n",
      "Epoch 27/70 [Test]: 100%|██████████| 143/143 [00:09<00:00, 14.93it/s, loss=0.00967]\n"
     ]
    },
    {
     "name": "stdout",
     "output_type": "stream",
     "text": [
      "Epoch 27/70 - Train loss: 0.035142 - Val loss: 0.091322\n"
     ]
    },
    {
     "name": "stderr",
     "output_type": "stream",
     "text": [
      "Epoch 28/70 [Train]: 100%|██████████| 664/664 [01:17<00:00,  8.54it/s, loss=0.0276] \n",
      "Epoch 28/70 [Test]: 100%|██████████| 143/143 [00:08<00:00, 17.13it/s, loss=0.00938]\n"
     ]
    },
    {
     "name": "stdout",
     "output_type": "stream",
     "text": [
      "Epoch 28/70 - Train loss: 0.033434 - Val loss: 0.090547\n"
     ]
    },
    {
     "name": "stderr",
     "output_type": "stream",
     "text": [
      "Epoch 29/70 [Train]: 100%|██████████| 664/664 [01:11<00:00,  9.32it/s, loss=0.00187]\n",
      "Epoch 29/70 [Test]: 100%|██████████| 143/143 [00:07<00:00, 18.05it/s, loss=0.00804]\n"
     ]
    },
    {
     "name": "stdout",
     "output_type": "stream",
     "text": [
      "Epoch 29/70 - Train loss: 0.031635 - Val loss: 0.093531\n"
     ]
    },
    {
     "name": "stderr",
     "output_type": "stream",
     "text": [
      "Epoch 30/70 [Train]: 100%|██████████| 664/664 [01:10<00:00,  9.41it/s, loss=0.00446]\n",
      "Epoch 30/70 [Test]: 100%|██████████| 143/143 [00:07<00:00, 17.91it/s, loss=0.00958]\n"
     ]
    },
    {
     "name": "stdout",
     "output_type": "stream",
     "text": [
      "Epoch 30/70 - Train loss: 0.029927 - Val loss: 0.093758\n"
     ]
    },
    {
     "name": "stderr",
     "output_type": "stream",
     "text": [
      "Epoch 31/70 [Train]: 100%|██████████| 664/664 [01:10<00:00,  9.40it/s, loss=0.0279] \n",
      "Epoch 31/70 [Test]: 100%|██████████| 143/143 [00:07<00:00, 19.03it/s, loss=0.00907]\n"
     ]
    },
    {
     "name": "stdout",
     "output_type": "stream",
     "text": [
      "Epoch 31/70 - Train loss: 0.026066 - Val loss: 0.092884\n"
     ]
    },
    {
     "name": "stderr",
     "output_type": "stream",
     "text": [
      "Epoch 32/70 [Train]: 100%|██████████| 664/664 [01:09<00:00,  9.49it/s, loss=0.011]  \n",
      "Epoch 32/70 [Test]: 100%|██████████| 143/143 [00:08<00:00, 17.29it/s, loss=0.01]  \n"
     ]
    },
    {
     "name": "stdout",
     "output_type": "stream",
     "text": [
      "Epoch 32/70 - Train loss: 0.024915 - Val loss: 0.092708\n"
     ]
    },
    {
     "name": "stderr",
     "output_type": "stream",
     "text": [
      "Epoch 33/70 [Train]: 100%|██████████| 664/664 [01:12<00:00,  9.19it/s, loss=0.0244] \n",
      "Epoch 33/70 [Test]: 100%|██████████| 143/143 [00:08<00:00, 17.21it/s, loss=0.00889]\n"
     ]
    },
    {
     "name": "stdout",
     "output_type": "stream",
     "text": [
      "Epoch 33/70 - Train loss: 0.023757 - Val loss: 0.091243\n"
     ]
    },
    {
     "name": "stderr",
     "output_type": "stream",
     "text": [
      "Epoch 34/70 [Train]: 100%|██████████| 664/664 [01:12<00:00,  9.10it/s, loss=0.019]  \n",
      "Epoch 34/70 [Test]: 100%|██████████| 143/143 [00:08<00:00, 16.90it/s, loss=0.00857]\n"
     ]
    },
    {
     "name": "stdout",
     "output_type": "stream",
     "text": [
      "Epoch 34/70 - Train loss: 0.022860 - Val loss: 0.092515\n"
     ]
    },
    {
     "name": "stderr",
     "output_type": "stream",
     "text": [
      "Epoch 35/70 [Train]: 100%|██████████| 664/664 [01:13<00:00,  8.99it/s, loss=0.0413] \n",
      "Epoch 35/70 [Test]: 100%|██████████| 143/143 [00:08<00:00, 17.28it/s, loss=0.00969]\n"
     ]
    },
    {
     "name": "stdout",
     "output_type": "stream",
     "text": [
      "Epoch 35/70 - Train loss: 0.021915 - Val loss: 0.094568\n"
     ]
    },
    {
     "name": "stderr",
     "output_type": "stream",
     "text": [
      "Epoch 36/70 [Train]: 100%|██████████| 664/664 [01:12<00:00,  9.19it/s, loss=0.0103] \n",
      "Epoch 36/70 [Test]: 100%|██████████| 143/143 [00:08<00:00, 17.03it/s, loss=0.00804]\n"
     ]
    },
    {
     "name": "stdout",
     "output_type": "stream",
     "text": [
      "Epoch 36/70 - Train loss: 0.020922 - Val loss: 0.094464\n"
     ]
    },
    {
     "name": "stderr",
     "output_type": "stream",
     "text": [
      "Epoch 37/70 [Train]: 100%|██████████| 664/664 [01:12<00:00,  9.17it/s, loss=0.00565]\n",
      "Epoch 37/70 [Test]: 100%|██████████| 143/143 [00:08<00:00, 17.28it/s, loss=0.00849]\n"
     ]
    },
    {
     "name": "stdout",
     "output_type": "stream",
     "text": [
      "Epoch 37/70 - Train loss: 0.018904 - Val loss: 0.095690\n"
     ]
    },
    {
     "name": "stderr",
     "output_type": "stream",
     "text": [
      "Epoch 38/70 [Train]: 100%|██████████| 664/664 [01:11<00:00,  9.29it/s, loss=0.0196] \n",
      "Epoch 38/70 [Test]: 100%|██████████| 143/143 [00:08<00:00, 17.42it/s, loss=0.00845]\n"
     ]
    },
    {
     "name": "stdout",
     "output_type": "stream",
     "text": [
      "Epoch 38/70 - Train loss: 0.018191 - Val loss: 0.094442\n"
     ]
    },
    {
     "name": "stderr",
     "output_type": "stream",
     "text": [
      "Epoch 39/70 [Train]: 100%|██████████| 664/664 [01:10<00:00,  9.36it/s, loss=0.0161]  \n",
      "Epoch 39/70 [Test]: 100%|██████████| 143/143 [00:08<00:00, 17.50it/s, loss=0.0082]\n"
     ]
    },
    {
     "name": "stdout",
     "output_type": "stream",
     "text": [
      "Epoch 39/70 - Train loss: 0.017807 - Val loss: 0.095377\n"
     ]
    },
    {
     "name": "stderr",
     "output_type": "stream",
     "text": [
      "Epoch 40/70 [Train]: 100%|██████████| 664/664 [01:14<00:00,  8.91it/s, loss=0.00269]\n",
      "Epoch 40/70 [Test]: 100%|██████████| 143/143 [00:08<00:00, 17.44it/s, loss=0.00809]\n"
     ]
    },
    {
     "name": "stdout",
     "output_type": "stream",
     "text": [
      "Epoch 40/70 - Train loss: 0.017217 - Val loss: 0.095880\n"
     ]
    },
    {
     "name": "stderr",
     "output_type": "stream",
     "text": [
      "Epoch 41/70 [Train]: 100%|██████████| 664/664 [01:11<00:00,  9.24it/s, loss=0.0297] \n",
      "Epoch 41/70 [Test]: 100%|██████████| 143/143 [00:08<00:00, 17.02it/s, loss=0.00839]\n"
     ]
    },
    {
     "name": "stdout",
     "output_type": "stream",
     "text": [
      "Epoch 41/70 - Train loss: 0.016710 - Val loss: 0.094923\n"
     ]
    },
    {
     "name": "stderr",
     "output_type": "stream",
     "text": [
      "Epoch 42/70 [Train]: 100%|██████████| 664/664 [01:08<00:00,  9.63it/s, loss=0.0304] \n",
      "Epoch 42/70 [Test]: 100%|██████████| 143/143 [00:07<00:00, 18.10it/s, loss=0.00703]\n"
     ]
    },
    {
     "name": "stdout",
     "output_type": "stream",
     "text": [
      "Epoch 42/70 - Train loss: 0.016284 - Val loss: 0.095895\n"
     ]
    },
    {
     "name": "stderr",
     "output_type": "stream",
     "text": [
      "Epoch 43/70 [Train]: 100%|██████████| 664/664 [01:08<00:00,  9.66it/s, loss=0.00524]\n",
      "Epoch 43/70 [Test]: 100%|██████████| 143/143 [00:07<00:00, 18.11it/s, loss=0.00825]\n"
     ]
    },
    {
     "name": "stdout",
     "output_type": "stream",
     "text": [
      "Epoch 43/70 - Train loss: 0.015233 - Val loss: 0.096863\n"
     ]
    },
    {
     "name": "stderr",
     "output_type": "stream",
     "text": [
      "Epoch 44/70 [Train]: 100%|██████████| 664/664 [01:10<00:00,  9.40it/s, loss=0.00501]\n",
      "Epoch 44/70 [Test]: 100%|██████████| 143/143 [00:08<00:00, 17.46it/s, loss=0.00763]\n"
     ]
    },
    {
     "name": "stdout",
     "output_type": "stream",
     "text": [
      "Epoch 44/70 - Train loss: 0.014893 - Val loss: 0.096191\n"
     ]
    },
    {
     "name": "stderr",
     "output_type": "stream",
     "text": [
      "Epoch 45/70 [Train]: 100%|██████████| 664/664 [01:12<00:00,  9.18it/s, loss=0.00771]\n",
      "Epoch 45/70 [Test]: 100%|██████████| 143/143 [00:08<00:00, 17.51it/s, loss=0.00791]\n"
     ]
    },
    {
     "name": "stdout",
     "output_type": "stream",
     "text": [
      "Epoch 45/70 - Train loss: 0.014660 - Val loss: 0.097440\n"
     ]
    },
    {
     "name": "stderr",
     "output_type": "stream",
     "text": [
      "Epoch 46/70 [Train]: 100%|██████████| 664/664 [01:11<00:00,  9.26it/s, loss=0.00156]\n",
      "Epoch 46/70 [Test]: 100%|██████████| 143/143 [00:08<00:00, 17.23it/s, loss=0.00756]\n"
     ]
    },
    {
     "name": "stdout",
     "output_type": "stream",
     "text": [
      "Epoch 46/70 - Train loss: 0.014362 - Val loss: 0.096914\n"
     ]
    },
    {
     "name": "stderr",
     "output_type": "stream",
     "text": [
      "Epoch 47/70 [Train]: 100%|██████████| 664/664 [01:11<00:00,  9.28it/s, loss=0.00463]\n",
      "Epoch 47/70 [Test]: 100%|██████████| 143/143 [00:08<00:00, 17.55it/s, loss=0.00842]\n"
     ]
    },
    {
     "name": "stdout",
     "output_type": "stream",
     "text": [
      "Epoch 47/70 - Train loss: 0.014124 - Val loss: 0.097691\n"
     ]
    },
    {
     "name": "stderr",
     "output_type": "stream",
     "text": [
      "Epoch 48/70 [Train]: 100%|██████████| 664/664 [01:13<00:00,  8.99it/s, loss=0.00478]\n",
      "Epoch 48/70 [Test]: 100%|██████████| 143/143 [00:08<00:00, 16.90it/s, loss=0.00826]\n"
     ]
    },
    {
     "name": "stdout",
     "output_type": "stream",
     "text": [
      "Epoch 48/70 - Train loss: 0.013913 - Val loss: 0.097807\n"
     ]
    },
    {
     "name": "stderr",
     "output_type": "stream",
     "text": [
      "Epoch 49/70 [Train]: 100%|██████████| 664/664 [01:13<00:00,  9.02it/s, loss=0.00697]\n",
      "Epoch 49/70 [Test]: 100%|██████████| 143/143 [00:08<00:00, 17.10it/s, loss=0.00795]\n"
     ]
    },
    {
     "name": "stdout",
     "output_type": "stream",
     "text": [
      "Epoch 49/70 - Train loss: 0.013408 - Val loss: 0.097067\n"
     ]
    },
    {
     "name": "stderr",
     "output_type": "stream",
     "text": [
      "Epoch 50/70 [Train]: 100%|██████████| 664/664 [01:13<00:00,  9.06it/s, loss=0.00916]\n",
      "Epoch 50/70 [Test]: 100%|██████████| 143/143 [00:08<00:00, 17.12it/s, loss=0.00838]\n"
     ]
    },
    {
     "name": "stdout",
     "output_type": "stream",
     "text": [
      "Epoch 50/70 - Train loss: 0.013253 - Val loss: 0.097024\n"
     ]
    },
    {
     "name": "stderr",
     "output_type": "stream",
     "text": [
      "Epoch 51/70 [Train]: 100%|██████████| 664/664 [01:13<00:00,  9.08it/s, loss=0.0186] \n",
      "Epoch 51/70 [Test]: 100%|██████████| 143/143 [00:08<00:00, 17.23it/s, loss=0.00771]\n"
     ]
    },
    {
     "name": "stdout",
     "output_type": "stream",
     "text": [
      "Epoch 51/70 - Train loss: 0.013131 - Val loss: 0.097609\n"
     ]
    },
    {
     "name": "stderr",
     "output_type": "stream",
     "text": [
      "Epoch 52/70 [Train]: 100%|██████████| 664/664 [01:14<00:00,  8.97it/s, loss=0.00341]\n",
      "Epoch 52/70 [Test]: 100%|██████████| 143/143 [00:08<00:00, 17.24it/s, loss=0.0083]\n"
     ]
    },
    {
     "name": "stdout",
     "output_type": "stream",
     "text": [
      "Epoch 52/70 - Train loss: 0.012966 - Val loss: 0.097257\n"
     ]
    },
    {
     "name": "stderr",
     "output_type": "stream",
     "text": [
      "Epoch 53/70 [Train]: 100%|██████████| 664/664 [01:12<00:00,  9.14it/s, loss=0.0021]  \n",
      "Epoch 53/70 [Test]: 100%|██████████| 143/143 [00:08<00:00, 17.53it/s, loss=0.00784]\n"
     ]
    },
    {
     "name": "stdout",
     "output_type": "stream",
     "text": [
      "Epoch 53/70 - Train loss: 0.012884 - Val loss: 0.097021\n"
     ]
    },
    {
     "name": "stderr",
     "output_type": "stream",
     "text": [
      "Epoch 54/70 [Train]: 100%|██████████| 664/664 [01:12<00:00,  9.17it/s, loss=0.0179] \n",
      "Epoch 54/70 [Test]: 100%|██████████| 143/143 [00:08<00:00, 17.46it/s, loss=0.00775]\n"
     ]
    },
    {
     "name": "stdout",
     "output_type": "stream",
     "text": [
      "Epoch 54/70 - Train loss: 0.012763 - Val loss: 0.097864\n"
     ]
    },
    {
     "name": "stderr",
     "output_type": "stream",
     "text": [
      "Epoch 55/70 [Train]: 100%|██████████| 664/664 [01:12<00:00,  9.10it/s, loss=0.00873] \n",
      "Epoch 55/70 [Test]: 100%|██████████| 143/143 [00:08<00:00, 17.32it/s, loss=0.00789]\n"
     ]
    },
    {
     "name": "stdout",
     "output_type": "stream",
     "text": [
      "Epoch 55/70 - Train loss: 0.012502 - Val loss: 0.097649\n"
     ]
    },
    {
     "name": "stderr",
     "output_type": "stream",
     "text": [
      "Epoch 56/70 [Train]: 100%|██████████| 664/664 [01:11<00:00,  9.26it/s, loss=0.00574]\n",
      "Epoch 56/70 [Test]: 100%|██████████| 143/143 [00:08<00:00, 16.70it/s, loss=0.00777]\n"
     ]
    },
    {
     "name": "stdout",
     "output_type": "stream",
     "text": [
      "Epoch 56/70 - Train loss: 0.012431 - Val loss: 0.097611\n"
     ]
    },
    {
     "name": "stderr",
     "output_type": "stream",
     "text": [
      "Epoch 57/70 [Train]: 100%|██████████| 664/664 [01:12<00:00,  9.18it/s, loss=0.0197]  \n",
      "Epoch 57/70 [Test]: 100%|██████████| 143/143 [00:08<00:00, 17.47it/s, loss=0.008] \n"
     ]
    },
    {
     "name": "stdout",
     "output_type": "stream",
     "text": [
      "Epoch 57/70 - Train loss: 0.012373 - Val loss: 0.098162\n"
     ]
    },
    {
     "name": "stderr",
     "output_type": "stream",
     "text": [
      "Epoch 58/70 [Train]: 100%|██████████| 664/664 [01:13<00:00,  9.07it/s, loss=0.0178] \n",
      "Epoch 58/70 [Test]: 100%|██████████| 143/143 [00:08<00:00, 17.56it/s, loss=0.0081]\n"
     ]
    },
    {
     "name": "stdout",
     "output_type": "stream",
     "text": [
      "Epoch 58/70 - Train loss: 0.012306 - Val loss: 0.098102\n"
     ]
    },
    {
     "name": "stderr",
     "output_type": "stream",
     "text": [
      "Epoch 59/70 [Train]: 100%|██████████| 664/664 [01:12<00:00,  9.19it/s, loss=0.00906] \n",
      "Epoch 59/70 [Test]: 100%|██████████| 143/143 [00:08<00:00, 17.20it/s, loss=0.00816]\n"
     ]
    },
    {
     "name": "stdout",
     "output_type": "stream",
     "text": [
      "Epoch 59/70 - Train loss: 0.012239 - Val loss: 0.098305\n"
     ]
    },
    {
     "name": "stderr",
     "output_type": "stream",
     "text": [
      "Epoch 60/70 [Train]: 100%|██████████| 664/664 [01:13<00:00,  9.08it/s, loss=0.00324]\n",
      "Epoch 60/70 [Test]: 100%|██████████| 143/143 [00:08<00:00, 17.58it/s, loss=0.00821]\n"
     ]
    },
    {
     "name": "stdout",
     "output_type": "stream",
     "text": [
      "Epoch 60/70 - Train loss: 0.012172 - Val loss: 0.098124\n"
     ]
    },
    {
     "name": "stderr",
     "output_type": "stream",
     "text": [
      "Epoch 61/70 [Train]: 100%|██████████| 664/664 [01:12<00:00,  9.18it/s, loss=0.0016] \n",
      "Epoch 61/70 [Test]: 100%|██████████| 143/143 [00:08<00:00, 17.65it/s, loss=0.00811]\n"
     ]
    },
    {
     "name": "stdout",
     "output_type": "stream",
     "text": [
      "Epoch 61/70 - Train loss: 0.012042 - Val loss: 0.098297\n"
     ]
    },
    {
     "name": "stderr",
     "output_type": "stream",
     "text": [
      "Epoch 62/70 [Train]: 100%|██████████| 664/664 [01:11<00:00,  9.30it/s, loss=0.00728]\n",
      "Epoch 62/70 [Test]: 100%|██████████| 143/143 [00:08<00:00, 17.26it/s, loss=0.00798]\n"
     ]
    },
    {
     "name": "stdout",
     "output_type": "stream",
     "text": [
      "Epoch 62/70 - Train loss: 0.011999 - Val loss: 0.098004\n"
     ]
    },
    {
     "name": "stderr",
     "output_type": "stream",
     "text": [
      "Epoch 63/70 [Train]: 100%|██████████| 664/664 [01:11<00:00,  9.33it/s, loss=0.00885]\n",
      "Epoch 63/70 [Test]: 100%|██████████| 143/143 [00:08<00:00, 17.68it/s, loss=0.00802]\n"
     ]
    },
    {
     "name": "stdout",
     "output_type": "stream",
     "text": [
      "Epoch 63/70 - Train loss: 0.011978 - Val loss: 0.098123\n"
     ]
    },
    {
     "name": "stderr",
     "output_type": "stream",
     "text": [
      "Epoch 64/70 [Train]: 100%|██████████| 664/664 [01:12<00:00,  9.13it/s, loss=0.00337] \n",
      "Epoch 64/70 [Test]: 100%|██████████| 143/143 [00:10<00:00, 13.80it/s, loss=0.00809]\n"
     ]
    },
    {
     "name": "stdout",
     "output_type": "stream",
     "text": [
      "Epoch 64/70 - Train loss: 0.011947 - Val loss: 0.098149\n"
     ]
    },
    {
     "name": "stderr",
     "output_type": "stream",
     "text": [
      "Epoch 65/70 [Train]: 100%|██████████| 664/664 [01:15<00:00,  8.82it/s, loss=0.0269]  \n",
      "Epoch 65/70 [Test]: 100%|██████████| 143/143 [00:08<00:00, 17.38it/s, loss=0.00795]\n"
     ]
    },
    {
     "name": "stdout",
     "output_type": "stream",
     "text": [
      "Epoch 65/70 - Train loss: 0.011929 - Val loss: 0.098276\n"
     ]
    },
    {
     "name": "stderr",
     "output_type": "stream",
     "text": [
      "Epoch 66/70 [Train]: 100%|██████████| 664/664 [01:10<00:00,  9.37it/s, loss=0.0274]  \n",
      "Epoch 66/70 [Test]: 100%|██████████| 143/143 [00:07<00:00, 17.90it/s, loss=0.00794]\n"
     ]
    },
    {
     "name": "stdout",
     "output_type": "stream",
     "text": [
      "Epoch 66/70 - Train loss: 0.011903 - Val loss: 0.098306\n"
     ]
    },
    {
     "name": "stderr",
     "output_type": "stream",
     "text": [
      "Epoch 67/70 [Train]: 100%|██████████| 664/664 [01:11<00:00,  9.35it/s, loss=0.00505] \n",
      "Epoch 67/70 [Test]: 100%|██████████| 143/143 [00:08<00:00, 17.27it/s, loss=0.00798]\n"
     ]
    },
    {
     "name": "stdout",
     "output_type": "stream",
     "text": [
      "Epoch 67/70 - Train loss: 0.011814 - Val loss: 0.098263\n"
     ]
    },
    {
     "name": "stderr",
     "output_type": "stream",
     "text": [
      "Epoch 68/70 [Train]: 100%|██████████| 664/664 [01:12<00:00,  9.10it/s, loss=0.00339]\n",
      "Epoch 68/70 [Test]: 100%|██████████| 143/143 [00:08<00:00, 17.39it/s, loss=0.00798]\n"
     ]
    },
    {
     "name": "stdout",
     "output_type": "stream",
     "text": [
      "Epoch 68/70 - Train loss: 0.011802 - Val loss: 0.098350\n"
     ]
    },
    {
     "name": "stderr",
     "output_type": "stream",
     "text": [
      "Epoch 69/70 [Train]: 100%|██████████| 664/664 [01:12<00:00,  9.13it/s, loss=0.00321]\n",
      "Epoch 69/70 [Test]: 100%|██████████| 143/143 [00:08<00:00, 17.19it/s, loss=0.00795]\n"
     ]
    },
    {
     "name": "stdout",
     "output_type": "stream",
     "text": [
      "Epoch 69/70 - Train loss: 0.011781 - Val loss: 0.098364\n"
     ]
    },
    {
     "name": "stderr",
     "output_type": "stream",
     "text": [
      "Epoch 70/70 [Train]: 100%|██████████| 664/664 [01:16<00:00,  8.73it/s, loss=0.00111] \n",
      "Epoch 70/70 [Test]: 100%|██████████| 143/143 [00:09<00:00, 15.77it/s, loss=0.00793]\n"
     ]
    },
    {
     "name": "stdout",
     "output_type": "stream",
     "text": [
      "Epoch 70/70 - Train loss: 0.011764 - Val loss: 0.098341\n",
      "Training completed. Best val loss: 0.084937\n"
     ]
    },
    {
     "data": {
      "image/png": "[encoded data removed]",
      "text/plain": [
       "<Figure size 1000x500 with 1 Axes>"
      ]
     },
     "metadata": {},
     "output_type": "display_data"
    },
    {
     "name": "stderr",
     "output_type": "stream",
     "text": [
      "C:\\Users\\mary9\\AppData\\Local\\Temp\\ipykernel_41972\\1545001556.py:25: FutureWarning: You are using `torch.load` with `weights_only=False` (the current default value), which uses the default pickle module implicitly. It is possible to construct malicious pickle data which will execute arbitrary code during unpickling (See https://github.com/pytorch/pytorch/blob/main/SECURITY.md#untrusted-models for more details). In a future release, the default value for `weights_only` will be flipped to `True`. This limits the functions that could be executed during unpickling. Arbitrary objects will no longer be allowed to be loaded via this mode unless they are explicitly allowlisted by the user via `torch.serialization.add_safe_globals`. We recommend you start setting `weights_only=True` for any use case where you don't have full control of the loaded file. Please open an issue on GitHub for any issues related to this experimental feature.\n",
      "  model.load_state_dict(torch.load(best_model_path))\n",
      "Evaluating:   0%|          | 0/143 [00:00<?, ?it/s]\n"
     ]
    },
    {
     "ename": "UnboundLocalError",
     "evalue": "local variable 'test_loss' referenced before assignment",
     "output_type": "error",
     "traceback": [
      "\u001b[1;31m---------------------------------------------------------------------------\u001b[0m",
      "\u001b[1;31mUnboundLocalError\u001b[0m                         Traceback (most recent call last)",
      "Cell \u001b[1;32mIn[14], line 28\u001b[0m\n\u001b[0;32m     25\u001b[0m model\u001b[38;5;241m.\u001b[39mload_state_dict(torch\u001b[38;5;241m.\u001b[39mload(best_model_path))\n\u001b[0;32m     27\u001b[0m \u001b[38;5;66;03m# Evaluate the model\u001b[39;00m\n\u001b[1;32m---> 28\u001b[0m \u001b[43mevaluate_model\u001b[49m\u001b[43m(\u001b[49m\u001b[43mmodel\u001b[49m\u001b[43m,\u001b[49m\u001b[43m \u001b[49m\u001b[43mtest_loader\u001b[49m\u001b[43m,\u001b[49m\u001b[43m \u001b[49m\u001b[43mdevice\u001b[49m\u001b[43m)\u001b[49m\n",
      "Cell \u001b[1;32mIn[13], line 17\u001b[0m, in \u001b[0;36mevaluate_model\u001b[1;34m(model, test_loader, device)\u001b[0m\n\u001b[0;32m     14\u001b[0m outputs \u001b[38;5;241m=\u001b[39m model(images)\n\u001b[0;32m     16\u001b[0m loss \u001b[38;5;241m=\u001b[39m F\u001b[38;5;241m.\u001b[39mmse_loss(outputs, targets)\n\u001b[1;32m---> 17\u001b[0m test_loss \u001b[38;5;241m+\u001b[39m\u001b[38;5;241m=\u001b[39m \u001b[38;5;28mfloat\u001b[39m(loss)\n\u001b[0;32m     19\u001b[0m all_targets\u001b[38;5;241m.\u001b[39mextend(targets\u001b[38;5;241m.\u001b[39mcpu()\u001b[38;5;241m.\u001b[39mnumpy())\n\u001b[0;32m     20\u001b[0m all_predictions\u001b[38;5;241m.\u001b[39mextend(outputs\u001b[38;5;241m.\u001b[39mcpu()\u001b[38;5;241m.\u001b[39mnumpy())\n",
      "\u001b[1;31mUnboundLocalError\u001b[0m: local variable 'test_loss' referenced before assignment"
     ]
    }
   ],
   "source": [
    "root_dir = \"put_jetbot_dataset/dataset/\"\n",
    "\n",
    "device = torch.device(\"cuda\" if torch.cuda.is_available() else \"cpu\")\n",
    "print(f\"Using device: {device}\")\n",
    "\n",
    "data = create_datasets(root_dir = \"put_jetbot_dataset/dataset/\", batch_size=8)\n",
    "train_loader = data[\"train\"]\n",
    "val_loader = data[\"val\"]\n",
    "test_loader = data[\"test\"]\n",
    "\n",
    "# Create model and move to device\n",
    "model = NvidiaPaperNetwork().to(device)\n",
    "\n",
    "# Print model summary\n",
    "print(model)\n",
    "\n",
    "# Count number of parameters\n",
    "total_params = sum(p.numel() for p in model.parameters())\n",
    "print(f\"Total parameters: {total_params:,}\")\n",
    "\n",
    "# Train the model\n",
    "best_model_path = training(model, train_loader, test_loader, device, epochs=70)\n",
    "\n",
    "# Load the best model\n",
    "model.load_state_dict(torch.load(best_model_path))\n"
   ]
  },
  {
   "cell_type": "code",
   "execution_count": 24,
   "id": "efab2dcf",
   "metadata": {},
   "outputs": [
    {
     "name": "stderr",
     "output_type": "stream",
     "text": [
      "Evaluating: 100%|██████████| 143/143 [00:08<00:00, 16.76it/s, loss=0.0163]\n"
     ]
    },
    {
     "name": "stdout",
     "output_type": "stream",
     "text": [
      "Final test loss: 0.084937\n",
      "Mean Absolute Error per output: [0.10461389 0.2586747 ]\n"
     ]
    },
    {
     "data": {
      "image/png": "[encoded data removed]",
      "text/plain": [
       "<Figure size 1000x800 with 1 Axes>"
      ]
     },
     "metadata": {},
     "output_type": "display_data"
    },
    {
     "data": {
      "text/plain": [
       "(0.08493707007956464, array([0.10461389, 0.2586747 ], dtype=float32))"
      ]
     },
     "execution_count": 24,
     "metadata": {},
     "output_type": "execute_result"
    }
   ],
   "source": [
    "# Evaluate the model\n",
    "evaluate_model(model, test_loader, device)"
   ]
  },
  {
   "cell_type": "markdown",
   "id": "663cdf6c",
   "metadata": {},
   "source": [
    "## Exporting the model"
   ]
  },
  {
   "cell_type": "code",
   "execution_count": 33,
   "id": "501cf0db",
   "metadata": {},
   "outputs": [
    {
     "name": "stdout",
     "output_type": "stream",
     "text": [
      "Model has been successfully exported to ONNX format!\n"
     ]
    }
   ],
   "source": [
    "model.eval()\n",
    "\n",
    "import torch\n",
    "\n",
    "# Assuming your model takes a (3, 224, 224) image as input\n",
    "dummy_input = torch.randn(1, 3, 224, 224).to(device)  # Batch size of 1\n",
    "\n",
    "import torch.onnx\n",
    "\n",
    "# Path where the ONNX model will be saved\n",
    "onnx_model_path = \"model_jetbot.onnx\"\n",
    "\n",
    "# Exporting the model\n",
    "torch.onnx.export(\n",
    "    model,               # Model to export\n",
    "    dummy_input,         # Example input tensor\n",
    "    onnx_model_path,     # Path to save the ONNX file\n",
    "    opset_version=11,    # Define the ONNX opset version\n",
    "    input_names=[\"input\"],       # Name of the input node\n",
    "    output_names=[\"output\"],     # Name of the output node\n",
    "    dynamic_axes={\n",
    "        \"input\": {0: \"batch_size\"},  # Dynamic batch size\n",
    "        \"output\": {0: \"batch_size\"}  # Dynamic batch size\n",
    "    },\n",
    "    do_constant_folding=True,  # Enable constant folding optimization\n",
    "    verbose=True              # Show detailed export info\n",
    ")\n",
    "\n",
    "import onnx\n",
    "\n",
    "# Load the exported model\n",
    "onnx_model = onnx.load(onnx_model_path)\n",
    "\n",
    "# Check if the model is valid\n",
    "onnx.checker.check_model(onnx_model)\n",
    "\n",
    "print(\"Model has been successfully exported to ONNX format!\")\n",
    "\n"
   ]
  }
 ],
 "metadata": {
  "kernelspec": {
   "display_name": "Python 3",
   "language": "python",
   "name": "python3"
  },
  "language_info": {
   "codemirror_mode": {
    "name": "ipython",
    "version": 3
   },
   "file_extension": ".py",
   "mimetype": "text/x-python",
   "name": "python",
   "nbconvert_exporter": "python",
   "pygments_lexer": "ipython3",
   "version": "3.8.19"
  }
 },
 "nbformat": 4,
 "nbformat_minor": 5
}
